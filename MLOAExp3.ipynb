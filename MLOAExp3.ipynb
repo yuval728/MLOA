{
  "nbformat": 4,
  "nbformat_minor": 0,
  "metadata": {
    "colab": {
      "provenance": [],
      "authorship_tag": "ABX9TyMPAZFoSNQXEfStbMTPB8Dn",
      "include_colab_link": true
    },
    "kernelspec": {
      "name": "python3",
      "display_name": "Python 3"
    },
    "language_info": {
      "name": "python"
    }
  },
  "cells": [
    {
      "cell_type": "markdown",
      "metadata": {
        "id": "view-in-github",
        "colab_type": "text"
      },
      "source": [
        "<a href=\"https://colab.research.google.com/github/yuval728/MLOA/blob/main/MLOAExp3.ipynb\" target=\"_parent\"><img src=\"https://colab.research.google.com/assets/colab-badge.svg\" alt=\"Open In Colab\"/></a>"
      ]
    },
    {
      "cell_type": "code",
      "execution_count": 8,
      "metadata": {
        "id": "0EJwMDMH-kK-"
      },
      "outputs": [],
      "source": [
        "import pandas as pd\n",
        "import numpy as np"
      ]
    },
    {
      "cell_type": "code",
      "source": [
        "#Q1\n",
        "def solve(A, n):\n",
        "\n",
        "    dp = [[0 for i in range(2000)] for i in range(2000)]\n",
        "    flag = 1\n",
        "\n",
        "    sum = 0\n",
        "    for i in range(n):\n",
        "        sum += A[i]\n",
        "\n",
        "    for i in range(-sum, sum+1):\n",
        "        dp[0][i] = 10**9\n",
        "\n",
        "    # Base Case\n",
        "    dp[0][0] = 0\n",
        "\n",
        "    for i in range(1, n+1):\n",
        "        for j in range(-sum, sum+1):\n",
        "            dp[flag][j] = 10**9\n",
        "            if (j - A[i - 1] <= sum and j - A[i - 1] >= -sum):\n",
        "                dp[flag][j] = dp[flag ^ 1][j - A[i - 1]]\n",
        "            if (j + A[i - 1] <= sum\n",
        "                and j + A[i - 1] >= -sum\n",
        "                    and dp[flag ^ 1][j + A[i - 1]] != 10**9):\n",
        "                dp[flag][j] = min(dp[flag][j],\n",
        "                                  dp[flag ^ 1][j + A[i - 1]] + 1)\n",
        "\n",
        "        flag = flag ^ 1\n",
        "\n",
        "    for i in range(sum+1):\n",
        "        if (dp[flag ^ 1][i] != 10**9):\n",
        "            return dp[flag ^ 1][i]\n",
        "\n",
        "    return n - 1\n",
        "\n",
        "\n",
        "arr =  np.random.randint(100,size=(5))  #[10, 22, 9, 33, 21, 50, 41, 60]\n",
        "n = len(arr)\n",
        "print(arr)\n",
        "print(solve(arr, n))"
      ],
      "metadata": {
        "colab": {
          "base_uri": "https://localhost:8080/"
        },
        "id": "4VVKHxab_Lz6",
        "outputId": "a2b78c6d-ae3d-4230-e066-c63b1876ddad"
      },
      "execution_count": 6,
      "outputs": [
        {
          "output_type": "stream",
          "name": "stdout",
          "text": [
            "[91 87 93 88 60]\n",
            "2\n"
          ]
        }
      ]
    },
    {
      "cell_type": "code",
      "source": [
        "#Q2\n",
        "n,m=3,5\n",
        "grid = np.random.randint(10, size=(n,m))\n",
        "# path=np.zeros((n,m))\n",
        "results=[]\n",
        "def maxDist(i,j,sum=0):\n",
        "  if i==0 and j==m-1:\n",
        "    return sum\n",
        "  if 0<=i and 0<=j<m:\n",
        "    temp=0\n",
        "    if i!=0:\n",
        "      if grid[i][j]>grid[i-1][j]:\n",
        "        temp=grid[i][j]"
      ],
      "metadata": {
        "colab": {
          "base_uri": "https://localhost:8080/"
        },
        "id": "rSUyn3KF_neS",
        "outputId": "4a5ddde8-c402-47bd-d4fd-eddf1b0ea1ee"
      },
      "execution_count": 4,
      "outputs": [
        {
          "output_type": "stream",
          "name": "stdout",
          "text": [
            "[[0. 0. 0. 0. 0.]\n",
            " [0. 0. 0. 0. 0.]\n",
            " [0. 0. 0. 0. 0.]]\n"
          ]
        }
      ]
    },
    {
      "cell_type": "code",
      "source": [
        "#Q3\n",
        "arr=np.random.randint(10,size=(5))\n",
        "print(arr)\n",
        "r=arr[0]\n",
        "n=arr[1]\n",
        "if arr[1]<arr[0]:\n",
        "  r=arr[1]\n",
        "  n=arr[0]\n",
        "\n",
        "def factorial(n):\n",
        "    return np.prod(range(1,n+1))\n",
        "\n",
        "for i in range(2,len(arr)):\n",
        "  if n<arr[i]:\n",
        "    r=n\n",
        "    n=arr[i]\n",
        "  elif r<arr[i]:\n",
        "    r=arr[i]\n",
        "print(n,r)\n",
        "print(factorial(n)/(factorial(n-r)))"
      ],
      "metadata": {
        "colab": {
          "base_uri": "https://localhost:8080/"
        },
        "id": "BUzHw2UjJTOD",
        "outputId": "635f5193-2321-4a3e-a870-0d9236a963fe"
      },
      "execution_count": 16,
      "outputs": [
        {
          "output_type": "stream",
          "name": "stdout",
          "text": [
            "[7 5 8 0 1]\n",
            "8 7\n",
            "40320.0\n"
          ]
        }
      ]
    },
    {
      "cell_type": "code",
      "source": [
        "#Q4\n",
        "arr=[1, 2, 1, 4, 3]\n",
        "\n",
        "def getMinOps(ar):\n",
        "    n = len(ar)\n",
        "\n",
        "    small = min(ar)\n",
        "    large = max(ar)\n",
        "\n",
        "    dp = [[ 0 for i in range(large + 1)]\n",
        "              for i in range(n)]\n",
        "\n",
        "    # Fill the dp[]][ array for base cases\n",
        "    for j in range(small, large + 1):\n",
        "        dp[0][j] = abs(ar[0] - j)\n",
        "\n",
        "\n",
        "    for i in range(1, n):\n",
        "        minimum = 10**9\n",
        "        for j in range(small, large + 1):\n",
        "          minimum = min(minimum, dp[i - 1][j])\n",
        "          dp[i][j] = minimum + abs(ar[i] - j)\n",
        "\n",
        "    ans = 10**9\n",
        "    for j in range(small, large + 1):\n",
        "        ans = min(ans, dp[n - 1][j])\n",
        "\n",
        "    return ans\n",
        "print(arr)\n",
        "getMinOps(arr)\n"
      ],
      "metadata": {
        "colab": {
          "base_uri": "https://localhost:8080/"
        },
        "id": "TBwug-Q5Otdv",
        "outputId": "c7da9ab9-f0fb-4576-f1ca-e74060b90ac8"
      },
      "execution_count": 23,
      "outputs": [
        {
          "output_type": "stream",
          "name": "stdout",
          "text": [
            "[1, 2, 1, 4, 3]\n"
          ]
        },
        {
          "output_type": "execute_result",
          "data": {
            "text/plain": [
              "2"
            ]
          },
          "metadata": {},
          "execution_count": 23
        }
      ]
    }
  ]
}