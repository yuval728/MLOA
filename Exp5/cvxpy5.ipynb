{
 "cells": [
  {
   "cell_type": "code",
   "execution_count": 7,
   "metadata": {},
   "outputs": [],
   "source": [
    "import cvxpy as cp\n",
    "import numpy as np\n",
    "import warnings\n",
    "warnings.filterwarnings(\"ignore\")"
   ]
  },
  {
   "cell_type": "code",
   "execution_count": 8,
   "metadata": {},
   "outputs": [],
   "source": [
    "n = 10\n",
    "np.random.seed(1)\n",
    "A = np.random.randn(n, n)\n",
    "x_star = np.random.randn(n)\n",
    "b = A @ x_star\n",
    "epsilon = 1e-2"
   ]
  },
  {
   "cell_type": "code",
   "execution_count": 9,
   "metadata": {},
   "outputs": [
    {
     "name": "stdout",
     "output_type": "stream",
     "text": [
      "Is problem DQCP?:  True\n",
      "Found a solution, with length:  8.0\n"
     ]
    }
   ],
   "source": [
    "x = cp.Variable(n)\n",
    "mse = cp.sum_squares(A @ x - b)/n\n",
    "problem = cp.Problem(cp.Minimize(cp.length(x)), [mse <= epsilon])\n",
    "print(\"Is problem DQCP?: \", problem.is_dqcp())\n",
    "\n",
    "problem.solve(qcp=True)\n",
    "print(\"Found a solution, with length: \", problem.value)"
   ]
  },
  {
   "cell_type": "code",
   "execution_count": 10,
   "metadata": {},
   "outputs": [
    {
     "name": "stdout",
     "output_type": "stream",
     "text": [
      "MSE:  0.00926009328813662\n"
     ]
    }
   ],
   "source": [
    "print(\"MSE: \", mse.value)"
   ]
  },
  {
   "cell_type": "code",
   "execution_count": 11,
   "metadata": {},
   "outputs": [
    {
     "name": "stdout",
     "output_type": "stream",
     "text": [
      "x:  [-2.58366030e-01  1.38434327e+00  2.10714108e-01  9.44811159e-01\n",
      " -1.14622208e+00  1.51283929e-01  6.62931941e-01 -1.16358584e+00\n",
      "  2.78132907e-13 -1.76314786e-13]\n",
      "x_star:  [-0.44712856  1.2245077   0.40349164  0.59357852 -1.09491185  0.16938243\n",
      "  0.74055645 -0.9537006  -0.26621851  0.03261455]\n"
     ]
    }
   ],
   "source": [
    "print(\"x: \", x.value)\n",
    "print(\"x_star: \", x_star)"
   ]
  }
 ],
 "metadata": {
  "kernelspec": {
   "display_name": "Python 3",
   "language": "python",
   "name": "python3"
  },
  "language_info": {
   "codemirror_mode": {
    "name": "ipython",
    "version": 3
   },
   "file_extension": ".py",
   "mimetype": "text/x-python",
   "name": "python",
   "nbconvert_exporter": "python",
   "pygments_lexer": "ipython3",
   "version": "3.9.13"
  }
 },
 "nbformat": 4,
 "nbformat_minor": 2
}
